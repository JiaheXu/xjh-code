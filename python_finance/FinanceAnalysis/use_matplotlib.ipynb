{
 "cells": [
  {
   "cell_type": "code",
   "execution_count": 1,
   "metadata": {},
   "outputs": [
    {
     "name": "stdout",
     "output_type": "stream",
     "text": [
      "Using matplotlib backend: Qt5Agg\n"
     ]
    }
   ],
   "source": [
    "import matplotlib.pyplot as plt\n",
    "import numpy as np\n",
    "import pandas as pd\n",
    "\n",
    "%matplotlib auto"
   ]
  },
  {
   "cell_type": "code",
   "execution_count": 2,
   "metadata": {},
   "outputs": [],
   "source": [
    "plt.plot([1,2,3,4],[2,3,1,7], color='red', label='Line A') # 折线图\n",
    "plt.plot([1,2,3,4],[3,5,6,9], color='black', marker='o', label='Line B')\n",
    "plt.title(\"Matplotlib Test Plot\")\n",
    "plt.xlabel(\"Xlabel\")\n",
    "plt.ylabel(\"Ylabel\")\n",
    "# plt.xlim(0, 10)\n",
    "# plt.ylim(0, 10)\n",
    "# plt.xticks(np.arange(0,11,2))\n",
    "plt.legend()\n",
    "plt.show()"
   ]
  },
  {
   "cell_type": "code",
   "execution_count": 3,
   "metadata": {},
   "outputs": [
    {
     "name": "stdout",
     "output_type": "stream",
     "text": [
      "              open   close    high     low\n",
      "date                                      \n",
      "2007-03-01  21.878  20.473  22.302  20.040\n",
      "2007-03-02  20.565  20.307  20.758  20.075\n",
      "2007-03-05  20.119  19.419  20.202  19.047\n",
      "2007-03-06  19.253  19.800  20.128  19.143\n",
      "2007-03-07  19.817  20.338  20.522  19.651\n",
      "...            ...     ...     ...     ...\n",
      "2017-12-11  71.200  73.250  73.310  70.820\n",
      "2017-12-12  73.250  71.210  73.560  71.170\n",
      "2017-12-13  71.210  72.120  72.620  70.200\n",
      "2017-12-14  72.120  71.010  72.160  70.600\n",
      "2017-12-15  70.690  70.380  71.440  70.050\n",
      "\n",
      "[2563 rows x 4 columns]\n"
     ]
    }
   ],
   "source": [
    "df = pd.read_csv(\"601318.csv\",parse_dates=['date'], index_col='date')[['open','close','high','low']]\n",
    "print(df)"
   ]
  },
  {
   "cell_type": "code",
   "execution_count": 4,
   "metadata": {},
   "outputs": [],
   "source": [
    "df.plot()\n",
    "plt.show()"
   ]
  },
  {
   "cell_type": "code",
   "execution_count": 5,
   "metadata": {},
   "outputs": [],
   "source": [
    "x = np.linspace(-1000,1000,100000)\n",
    "y1 = x.copy()\n",
    "y2 = x ** 2\n",
    "y3 = x**3+5*x**2+2*x+1\n",
    "plt.plot(x,y1,color='red',label='y=x')\n",
    "plt.plot(x,y2, color='green', label='y=x^2')\n",
    "plt.plot(x, y3, color='blue', label='y=x^3+5x^2+2x+1')\n",
    "plt.xlim(-1000,1000)\n",
    "plt.ylim(-1000,1000)\n",
    "plt.legend()\n",
    "plt.show()"
   ]
  },
  {
   "cell_type": "code",
   "execution_count": 6,
   "metadata": {},
   "outputs": [],
   "source": [
    "fig = plt.figure()\n",
    "ax1 = fig.add_subplot(2,2,1)\n",
    "ax1.plot([1,2,3,4],[5,6,7,8])\n",
    "plt.show()"
   ]
  },
  {
   "cell_type": "code",
   "execution_count": 7,
   "metadata": {},
   "outputs": [],
   "source": [
    "data = [32, 48, 21, 100]\n",
    "labels = ['Jan','Feb','Mar','Apr']\n",
    "\n",
    "plt.bar(np.arange(len(data)),data, align='edge')\n",
    "plt.xticks(np.arange(len(data)), labels)\n",
    "plt.show()"
   ]
  },
  {
   "cell_type": "code",
   "execution_count": 8,
   "metadata": {},
   "outputs": [],
   "source": [
    "plt.pie([10,20,30,40], labels=['a','b','c','d'], autopct=\"%.2f%%\", explode=[0.1,0,0.1,0])\n",
    "plt.axis('equal')\n",
    "plt.show()"
   ]
  },
  {
   "cell_type": "code",
   "execution_count": 10,
   "metadata": {},
   "outputs": [
    {
     "name": "stderr",
     "output_type": "stream",
     "text": [
      "C:\\ProgramData\\Anaconda3\\lib\\site-packages\\mpl_finance.py:16: DeprecationWarning: \n",
      "\n",
      "  =================================================================\n",
      "\n",
      "   WARNING: `mpl_finance` is deprecated:\n",
      "\n",
      "    Please use `mplfinance` instead (no hyphen, no underscore).\n",
      "\n",
      "    To install: `pip install --upgrade mplfinance` \n",
      "\n",
      "   For more information, see: https://pypi.org/project/mplfinance/\n",
      "\n",
      "  =================================================================\n",
      "\n",
      "  __warnings.warn('\\n\\n  ================================================================='+\n"
     ]
    }
   ],
   "source": [
    "from mpl_finance import candlestick_ochl\n",
    "from matplotlib.dates import date2num"
   ]
  },
  {
   "cell_type": "code",
   "execution_count": 11,
   "metadata": {
    "scrolled": true
   },
   "outputs": [
    {
     "data": {
      "text/html": [
       "<div>\n",
       "<style scoped>\n",
       "    .dataframe tbody tr th:only-of-type {\n",
       "        vertical-align: middle;\n",
       "    }\n",
       "\n",
       "    .dataframe tbody tr th {\n",
       "        vertical-align: top;\n",
       "    }\n",
       "\n",
       "    .dataframe thead th {\n",
       "        text-align: right;\n",
       "    }\n",
       "</style>\n",
       "<table border=\"1\" class=\"dataframe\">\n",
       "  <thead>\n",
       "    <tr style=\"text-align: right;\">\n",
       "      <th></th>\n",
       "      <th>open</th>\n",
       "      <th>close</th>\n",
       "      <th>high</th>\n",
       "      <th>low</th>\n",
       "      <th>time</th>\n",
       "    </tr>\n",
       "    <tr>\n",
       "      <th>date</th>\n",
       "      <th></th>\n",
       "      <th></th>\n",
       "      <th></th>\n",
       "      <th></th>\n",
       "      <th></th>\n",
       "    </tr>\n",
       "  </thead>\n",
       "  <tbody>\n",
       "    <tr>\n",
       "      <th>2007-03-01</th>\n",
       "      <td>21.878</td>\n",
       "      <td>20.473</td>\n",
       "      <td>22.302</td>\n",
       "      <td>20.040</td>\n",
       "      <td>13573.0</td>\n",
       "    </tr>\n",
       "    <tr>\n",
       "      <th>2007-03-02</th>\n",
       "      <td>20.565</td>\n",
       "      <td>20.307</td>\n",
       "      <td>20.758</td>\n",
       "      <td>20.075</td>\n",
       "      <td>13574.0</td>\n",
       "    </tr>\n",
       "    <tr>\n",
       "      <th>2007-03-05</th>\n",
       "      <td>20.119</td>\n",
       "      <td>19.419</td>\n",
       "      <td>20.202</td>\n",
       "      <td>19.047</td>\n",
       "      <td>13577.0</td>\n",
       "    </tr>\n",
       "    <tr>\n",
       "      <th>2007-03-06</th>\n",
       "      <td>19.253</td>\n",
       "      <td>19.800</td>\n",
       "      <td>20.128</td>\n",
       "      <td>19.143</td>\n",
       "      <td>13578.0</td>\n",
       "    </tr>\n",
       "    <tr>\n",
       "      <th>2007-03-07</th>\n",
       "      <td>19.817</td>\n",
       "      <td>20.338</td>\n",
       "      <td>20.522</td>\n",
       "      <td>19.651</td>\n",
       "      <td>13579.0</td>\n",
       "    </tr>\n",
       "    <tr>\n",
       "      <th>...</th>\n",
       "      <td>...</td>\n",
       "      <td>...</td>\n",
       "      <td>...</td>\n",
       "      <td>...</td>\n",
       "      <td>...</td>\n",
       "    </tr>\n",
       "    <tr>\n",
       "      <th>2017-12-11</th>\n",
       "      <td>71.200</td>\n",
       "      <td>73.250</td>\n",
       "      <td>73.310</td>\n",
       "      <td>70.820</td>\n",
       "      <td>17511.0</td>\n",
       "    </tr>\n",
       "    <tr>\n",
       "      <th>2017-12-12</th>\n",
       "      <td>73.250</td>\n",
       "      <td>71.210</td>\n",
       "      <td>73.560</td>\n",
       "      <td>71.170</td>\n",
       "      <td>17512.0</td>\n",
       "    </tr>\n",
       "    <tr>\n",
       "      <th>2017-12-13</th>\n",
       "      <td>71.210</td>\n",
       "      <td>72.120</td>\n",
       "      <td>72.620</td>\n",
       "      <td>70.200</td>\n",
       "      <td>17513.0</td>\n",
       "    </tr>\n",
       "    <tr>\n",
       "      <th>2017-12-14</th>\n",
       "      <td>72.120</td>\n",
       "      <td>71.010</td>\n",
       "      <td>72.160</td>\n",
       "      <td>70.600</td>\n",
       "      <td>17514.0</td>\n",
       "    </tr>\n",
       "    <tr>\n",
       "      <th>2017-12-15</th>\n",
       "      <td>70.690</td>\n",
       "      <td>70.380</td>\n",
       "      <td>71.440</td>\n",
       "      <td>70.050</td>\n",
       "      <td>17515.0</td>\n",
       "    </tr>\n",
       "  </tbody>\n",
       "</table>\n",
       "<p>2563 rows × 5 columns</p>\n",
       "</div>"
      ],
      "text/plain": [
       "              open   close    high     low     time\n",
       "date                                               \n",
       "2007-03-01  21.878  20.473  22.302  20.040  13573.0\n",
       "2007-03-02  20.565  20.307  20.758  20.075  13574.0\n",
       "2007-03-05  20.119  19.419  20.202  19.047  13577.0\n",
       "2007-03-06  19.253  19.800  20.128  19.143  13578.0\n",
       "2007-03-07  19.817  20.338  20.522  19.651  13579.0\n",
       "...            ...     ...     ...     ...      ...\n",
       "2017-12-11  71.200  73.250  73.310  70.820  17511.0\n",
       "2017-12-12  73.250  71.210  73.560  71.170  17512.0\n",
       "2017-12-13  71.210  72.120  72.620  70.200  17513.0\n",
       "2017-12-14  72.120  71.010  72.160  70.600  17514.0\n",
       "2017-12-15  70.690  70.380  71.440  70.050  17515.0\n",
       "\n",
       "[2563 rows x 5 columns]"
      ]
     },
     "execution_count": 11,
     "metadata": {},
     "output_type": "execute_result"
    }
   ],
   "source": [
    "df['time'] = date2num(df.index.to_pydatetime())\n",
    "df"
   ]
  },
  {
   "cell_type": "code",
   "execution_count": 13,
   "metadata": {},
   "outputs": [
    {
     "ename": "NameError",
     "evalue": "name 'time' is not defined",
     "output_type": "error",
     "traceback": [
      "\u001b[1;31m---------------------------------------------------------------------------\u001b[0m",
      "\u001b[1;31mNameError\u001b[0m                                 Traceback (most recent call last)",
      "\u001b[1;32m<ipython-input-13-4dd199d17512>\u001b[0m in \u001b[0;36m<module>\u001b[1;34m\u001b[0m\n\u001b[0;32m      1\u001b[0m \u001b[0mfig\u001b[0m \u001b[1;33m=\u001b[0m \u001b[0mplt\u001b[0m\u001b[1;33m.\u001b[0m\u001b[0mfigure\u001b[0m\u001b[1;33m(\u001b[0m\u001b[1;33m)\u001b[0m\u001b[1;33m\u001b[0m\u001b[1;33m\u001b[0m\u001b[0m\n\u001b[0;32m      2\u001b[0m \u001b[0max\u001b[0m \u001b[1;33m=\u001b[0m \u001b[0mfig\u001b[0m\u001b[1;33m.\u001b[0m\u001b[0madd_subplot\u001b[0m\u001b[1;33m(\u001b[0m\u001b[1;36m1\u001b[0m\u001b[1;33m,\u001b[0m\u001b[1;36m1\u001b[0m\u001b[1;33m,\u001b[0m\u001b[1;36m1\u001b[0m\u001b[1;33m)\u001b[0m\u001b[1;33m\u001b[0m\u001b[1;33m\u001b[0m\u001b[0m\n\u001b[1;32m----> 3\u001b[1;33m \u001b[0marr\u001b[0m \u001b[1;33m=\u001b[0m \u001b[0mdf\u001b[0m\u001b[1;33m[\u001b[0m\u001b[1;33m[\u001b[0m\u001b[0mtime\u001b[0m\u001b[1;33m,\u001b[0m\u001b[0mopen\u001b[0m\u001b[1;33m,\u001b[0m\u001b[0mclose\u001b[0m\u001b[1;33m,\u001b[0m\u001b[0mhigh\u001b[0m\u001b[1;33m,\u001b[0m\u001b[0mlow\u001b[0m\u001b[1;33m]\u001b[0m\u001b[1;33m]\u001b[0m\u001b[1;33m.\u001b[0m\u001b[0mvalues\u001b[0m\u001b[1;33m\u001b[0m\u001b[1;33m\u001b[0m\u001b[0m\n\u001b[0m\u001b[0;32m      4\u001b[0m \u001b[0mcandlestick_ochl\u001b[0m\u001b[1;33m(\u001b[0m\u001b[0max\u001b[0m\u001b[1;33m,\u001b[0m\u001b[0marr\u001b[0m\u001b[1;33m)\u001b[0m\u001b[1;33m\u001b[0m\u001b[1;33m\u001b[0m\u001b[0m\n\u001b[0;32m      5\u001b[0m \u001b[0mplt\u001b[0m\u001b[1;33m.\u001b[0m\u001b[0mgrid\u001b[0m\u001b[1;33m(\u001b[0m\u001b[1;33m)\u001b[0m\u001b[1;33m\u001b[0m\u001b[1;33m\u001b[0m\u001b[0m\n",
      "\u001b[1;31mNameError\u001b[0m: name 'time' is not defined"
     ]
    }
   ],
   "source": [
    "fig = plt.figure()\n",
    "ax = fig.add_subplot(1,1,1)\n",
    "\n",
    "arr = df[['time','open','close','high','low']].values\n",
    "\n",
    "fin.candlestick_ochl(ax, arr)"
   ]
  },
  {
   "cell_type": "code",
   "execution_count": null,
   "metadata": {},
   "outputs": [],
   "source": [
    "fig = plt.figure()\n",
    "ax = fig.add_subplot(1,1,1)\n",
    "arr = df[[time,open,close,high,low]].values\n",
    "candlestick_ochl(ax,arr)\n",
    "plt.grid()\n",
    "plt.show()"
   ]
  }
 ],
 "metadata": {
  "kernelspec": {
   "display_name": "Python 3",
   "language": "python",
   "name": "python3"
  },
  "language_info": {
   "codemirror_mode": {
    "name": "ipython",
    "version": 3
   },
   "file_extension": ".py",
   "mimetype": "text/x-python",
   "name": "python",
   "nbconvert_exporter": "python",
   "pygments_lexer": "ipython3",
   "version": "3.8.5"
  }
 },
 "nbformat": 4,
 "nbformat_minor": 1
}
